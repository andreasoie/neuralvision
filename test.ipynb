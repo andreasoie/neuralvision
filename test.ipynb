{
 "cells": [
  {
   "cell_type": "code",
   "execution_count": 1,
   "metadata": {},
   "outputs": [],
   "source": [
    "import torch\n",
    "from torch import nn\n",
    "import torchvision"
   ]
  },
  {
   "cell_type": "code",
   "execution_count": 2,
   "metadata": {},
   "outputs": [],
   "source": [
    "from neuralvision.ssd.retinanet import create_subnet"
   ]
  },
  {
   "cell_type": "code",
   "execution_count": 3,
   "metadata": {},
   "outputs": [],
   "source": [
    "from torchvision.models.detection import retinanet_resnet50_fpn"
   ]
  },
  {
   "cell_type": "code",
   "execution_count": 4,
   "metadata": {},
   "outputs": [],
   "source": [
    "mod = retinanet_resnet50_fpn(num_classes=2, pretrained=False)"
   ]
  },
  {
   "cell_type": "code",
   "execution_count": 9,
   "metadata": {},
   "outputs": [],
   "source": [
    "conv = nn.Conv2d(256, 6*9, kernel_size=3, stride=1, padding=1)"
   ]
  },
  {
   "cell_type": "code",
   "execution_count": 22,
   "metadata": {},
   "outputs": [],
   "source": [
    "indexes = [numb for numb in range(6*9) if numb % 9 == 0]"
   ]
  },
  {
   "cell_type": "code",
   "execution_count": 23,
   "metadata": {},
   "outputs": [
    {
     "data": {
      "text/plain": [
       "[0, 9, 18, 27, 36, 45]"
      ]
     },
     "execution_count": 23,
     "metadata": {},
     "output_type": "execute_result"
    }
   ],
   "source": [
    "indexes"
   ]
  },
  {
   "cell_type": "code",
   "execution_count": 16,
   "metadata": {},
   "outputs": [],
   "source": [
    "map = {\n",
    "    0: 'background',\n",
    "    1: 'car',\n",
    "    2: 'truck',\n",
    "    3: 'bus',\n",
    "    4: 'motorcycle',\n",
    "    5: 'bicycle',\n",
    "    6: 'scooter',\n",
    "    7: 'person',\n",
    "    8: 'rider',\n",
    "    9: \"background\",\n",
    "    10: 'car',\n",
    "    11: 'truck',\n",
    "    12: 'bus',\n",
    "    13: 'motorcycle',\n",
    "    14: 'bicycle',\n",
    "    15: 'scooter',\n",
    "    16: 'person',\n",
    "    17: 'rider',\n",
    "    18: \"background\",\n",
    "}\n"
   ]
  },
  {
   "cell_type": "code",
   "execution_count": 26,
   "metadata": {},
   "outputs": [],
   "source": [
    "import math"
   ]
  },
  {
   "cell_type": "code",
   "execution_count": 32,
   "metadata": {},
   "outputs": [
    {
     "ename": "ValueError",
     "evalue": "math domain error",
     "output_type": "error",
     "traceback": [
      "\u001b[0;31m---------------------------------------------------------------------------\u001b[0m",
      "\u001b[0;31mValueError\u001b[0m                                Traceback (most recent call last)",
      "\u001b[1;32m/home/andy/dev/neuralvision/test.ipynb Cell 10'\u001b[0m in \u001b[0;36m<cell line: 3>\u001b[0;34m()\u001b[0m\n\u001b[1;32m      <a href='vscode-notebook-cell://ssh-remote%2B188.113.84.228/home/andy/dev/neuralvision/test.ipynb#ch0000005vscode-remote?line=4'>5</a>\u001b[0m idx \u001b[39m=\u001b[39m K\u001b[39m+\u001b[39m\u001b[39m1\u001b[39m\n\u001b[1;32m      <a href='vscode-notebook-cell://ssh-remote%2B188.113.84.228/home/andy/dev/neuralvision/test.ipynb#ch0000005vscode-remote?line=5'>6</a>\u001b[0m p \u001b[39m=\u001b[39m \u001b[39m0.99\u001b[39m\n\u001b[0;32m----> <a href='vscode-notebook-cell://ssh-remote%2B188.113.84.228/home/andy/dev/neuralvision/test.ipynb#ch0000005vscode-remote?line=6'>7</a>\u001b[0m bias \u001b[39m=\u001b[39m math\u001b[39m.\u001b[39;49mlog(p \u001b[39m*\u001b[39;49m ((idx\u001b[39m-\u001b[39;49m\u001b[39m1\u001b[39;49m) \u001b[39m/\u001b[39;49m (\u001b[39m1\u001b[39;49m\u001b[39m-\u001b[39;49mp)))\n\u001b[1;32m      <a href='vscode-notebook-cell://ssh-remote%2B188.113.84.228/home/andy/dev/neuralvision/test.ipynb#ch0000005vscode-remote?line=7'>8</a>\u001b[0m \u001b[39mprint\u001b[39m(\u001b[39mf\u001b[39m\u001b[39m\"\u001b[39m\u001b[39mK: \u001b[39m\u001b[39m{\u001b[39;00mK\u001b[39m}\u001b[39;00m\u001b[39m, bias: \u001b[39m\u001b[39m{\u001b[39;00mbias\u001b[39m}\u001b[39;00m\u001b[39m\"\u001b[39m)\n",
      "\u001b[0;31mValueError\u001b[0m: math domain error"
     ]
    }
   ],
   "source": [
    "background_pos = 0\n",
    "n_positions = conv.bias.shape[0]\n",
    "for K in range(n_positions):\n",
    "    if K % 9 == 0:\n",
    "        idx = K+1\n",
    "        p = 0.99\n",
    "        bias = math.log(p * ((idx-1) / (1-p)))\n",
    "        print(f\"K: {K}, bias: {bias}\")\n"
   ]
  },
  {
   "cell_type": "code",
   "execution_count": null,
   "metadata": {},
   "outputs": [],
   "source": [
    "from torchvision.models.detection import retinanet_resnet50_fpn"
   ]
  }
 ],
 "metadata": {
  "interpreter": {
   "hash": "64a4548cfd3509a00ab45dd82e9ec2cddcf0622da5c641a16d2fecd7ebf905b3"
  },
  "kernelspec": {
   "display_name": "Python 3.8.10 ('venv': venv)",
   "language": "python",
   "name": "python3"
  },
  "language_info": {
   "codemirror_mode": {
    "name": "ipython",
    "version": 3
   },
   "file_extension": ".py",
   "mimetype": "text/x-python",
   "name": "python",
   "nbconvert_exporter": "python",
   "pygments_lexer": "ipython3",
   "version": "3.8.10"
  },
  "orig_nbformat": 4
 },
 "nbformat": 4,
 "nbformat_minor": 2
}
